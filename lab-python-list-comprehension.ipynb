{
 "cells": [
  {
   "cell_type": "markdown",
   "id": "25d7736c-ba17-4aff-b6bb-66eba20fbf4e",
   "metadata": {},
   "source": [
    "# Lab | List, Dict and Set Comprehension"
   ]
  },
  {
   "cell_type": "markdown",
   "id": "7dd3cbde-675a-4b81-92c3-f728846dbe06",
   "metadata": {},
   "source": [
    "## Exercise: Managing Customer Orders Optimized with Comprehension"
   ]
  },
  {
   "cell_type": "markdown",
   "id": "7072092c-7e79-48c1-87d9-e27ddd31923f",
   "metadata": {},
   "source": [
    "In the previous exercise, you developed a program to manage customer orders and inventory. Now, let's take it a step further and incorporate comprehension into your code.\n",
    "\n",
    "Follow the steps below to complete the exercise:\n",
    "\n",
    "1. Review your code from the previous exercise and identify areas where you can apply comprehension to simplify and streamline your code. \n",
    "\n",
    "    - *Hint: Apply it to initialize inventory, updating the inventory and printing the updated inventory.*\n",
    "    \n",
    "    - For example, in initializing the inventory, we could have:\n",
    "    \n",
    "        ```python\n",
    "        def initialize_inventory(products):\n",
    "            inventory = {product: int(input(f\"Enter the quantity of {product}s available: \")) for product in products}\n",
    "            return inventory\n",
    "\n",
    "        ```\n",
    "<br>\n",
    "    \n",
    "    \n",
    "2. Modify the function get_customer_orders so it prompts the user to enter the number of customer orders and gathers the product names using a loop and user input. Use comprehension.\n",
    "\n",
    "3. Add a new function to calculate the total price of the customer order. For each product in customer_orders, prompt the user to enter the price of that product. Use comprehension to calculate the total price. Note: assume that the user can only have 1 unit of each product.\n",
    "\n",
    "4. Modify the update_inventory function to remove the product from the inventory if its quantity becomes zero after fulfilling the customer orders. Use comprehension to filter out the products with a quantity of zero from the inventory.\n",
    "\n",
    "5. Print the total price of the customer order.\n",
    "\n",
    "Your code should produce output similar to the following:\n",
    "\n",
    "```python\n",
    "Enter the quantity of t-shirts available:  5\n",
    "Enter the quantity of mugs available:  4\n",
    "Enter the quantity of hats available:  3\n",
    "Enter the quantity of books available:  2\n",
    "Enter the quantity of keychains available:  1\n",
    "Enter the number of customer orders:  2\n",
    "Enter the name of a product that a customer wants to order:  hat\n",
    "Enter the name of a product that a customer wants to order:  keychain\n",
    "\n",
    "Order Statistics:\n",
    "Total Products Ordered: 2\n",
    "Percentage of Unique Products Ordered: 40.0\n",
    "\n",
    "Updated Inventory:\n",
    "t-shirt: 5\n",
    "mug: 4\n",
    "hat: 2\n",
    "book: 2\n",
    "Enter the price of keychain:  5\n",
    "Enter the price of hat:  10\n",
    "Total Price: 15.0\n",
    "\n",
    "```\n"
   ]
  },
  {
   "cell_type": "code",
   "execution_count": 4,
   "id": "f308f21f-686a-46c4-acdd-1d8905e86414",
   "metadata": {},
   "outputs": [
    {
     "name": "stdout",
     "output_type": "stream",
     "text": [
      "Enter the product names and their quantities. Type 'done' to finish.\n"
     ]
    },
    {
     "name": "stdin",
     "output_type": "stream",
     "text": [
      "Enter the name of the product:  book\n",
      "Enter the quantity for book:  10\n",
      "Enter the name of the product:  mug\n",
      "Enter the quantity for mug:  10\n",
      "Enter the name of the product:  shoes\n",
      "Enter the quantity for shoes:  10\n",
      "Enter the name of the product:  dress\n",
      "Enter the quantity for dress:  10\n",
      "Enter the name of the product:  postcard\n",
      "Enter the quantity for postcard:  10\n",
      "Enter the name of the product:  done\n"
     ]
    },
    {
     "name": "stdout",
     "output_type": "stream",
     "text": [
      "Final Inventory: {'book': 10, 'mug': 10, 'shoes': 10, 'dress': 10, 'postcard': 10}\n"
     ]
    }
   ],
   "source": [
    "# 1. Review your code from the previous exercise and identify areas \n",
    "# where you can apply comprehension to simplify and streamline your code. \n",
    "\n",
    "def initialize_inventory():\n",
    "    \"\"\"\n",
    "    Initialize the inventory dictionary with user-specified product names and quantities.\n",
    "\n",
    "    Returns:\n",
    "        dict: A dictionary with product names as keys and quantities as values.\n",
    "    \"\"\"\n",
    "    def get_positive_int(prompt):\n",
    "        \"\"\"Helper function to ensure input is a valid positive integer.\"\"\"\n",
    "        while True:\n",
    "            try:\n",
    "                qty = int(input(prompt).strip())\n",
    "                if qty < 0:\n",
    "                    print(\"Quantity cannot be negative. Please try again.\")\n",
    "                    continue\n",
    "                return qty\n",
    "            except ValueError:\n",
    "                print(\"Invalid input. Please enter a whole number.\")\n",
    "    \n",
    "    print(\"Enter the product names and their quantities. Type 'done' to finish.\")\n",
    "    \n",
    "    # Using a dictionary comprehension with a dynamic input list\n",
    "    inventory = {\n",
    "        product: get_positive_int(f\"Enter the quantity for {product}: \")\n",
    "        for product in iter(lambda: input(\"Enter the name of the product: \").strip(), 'done')\n",
    "    }\n",
    "    \n",
    "    return inventory\n",
    "\n",
    "inventory = initialize_inventory()\n",
    "print(\"Final Inventory:\", inventory)"
   ]
  },
  {
   "cell_type": "code",
   "execution_count": 5,
   "id": "d72381d2-1fb2-4531-b1f0-211ad76b03d2",
   "metadata": {},
   "outputs": [
    {
     "name": "stdout",
     "output_type": "stream",
     "text": [
      "Enter the product names for the order. Type 'done' when finished.\n"
     ]
    },
    {
     "name": "stdin",
     "output_type": "stream",
     "text": [
      "Enter the name of the product you want to order:  postcard\n",
      "Enter the name of the product you want to order:  mug\n",
      "Enter the name of the product you want to order:  done\n"
     ]
    },
    {
     "name": "stdout",
     "output_type": "stream",
     "text": [
      "Final order: {'mug', 'postcard'}\n"
     ]
    }
   ],
   "source": [
    "# 2. Modify the function get_customer_orders so it prompts the user to enter the number of customer\n",
    "# orders and gathers the product names using a loop and user input. Use comprehension.\n",
    "\n",
    "def get_customer_orders():\n",
    "    \"\"\"\n",
    "    Prompt the user to enter product names and return a set of customer orders.\n",
    "    \n",
    "    Returns:\n",
    "        set: A set containing the names of the products ordered by the customer.\n",
    "    \"\"\"\n",
    "\n",
    "    print(\"Enter the product names for the order. Type 'done' when finished.\")\n",
    "    \n",
    "    customer_orders = {\n",
    "        product for product in iter(lambda: input(\"Enter the name of the product you want to order: \").strip(), 'done')\n",
    "    }\n",
    "    \n",
    "    return customer_orders\n",
    "    \n",
    "\n",
    "customer_orders = get_customer_orders()\n",
    "print(\"Final order:\", customer_orders)\n",
    "    "
   ]
  },
  {
   "cell_type": "code",
   "execution_count": 6,
   "id": "b7c0586d-eb87-4144-b936-85e907eeb6cc",
   "metadata": {},
   "outputs": [
    {
     "name": "stdout",
     "output_type": "stream",
     "text": [
      "Enter the price for each product in the order.\n"
     ]
    },
    {
     "name": "stdin",
     "output_type": "stream",
     "text": [
      "Enter the price of mug:  15\n",
      "Enter the price of postcard:  5\n"
     ]
    },
    {
     "name": "stdout",
     "output_type": "stream",
     "text": [
      "The total price of the order is: $20.00\n"
     ]
    }
   ],
   "source": [
    "# 3. Add a new function to calculate the total price of the customer order. For each product in \n",
    "# customer_orders, prompt the user to enter the price of that product. Use comprehension to \n",
    "# calculate the total price. Note: assume that the user can only have 1 unit of each product.\n",
    "\n",
    "def calculate_total_price(customer_orders):\n",
    "    \"\"\"\n",
    "    Calculate the total price of the customer's order.\n",
    "\n",
    "    Args:\n",
    "        customer_orders (set): A set of product names in the customer's order.\n",
    "\n",
    "    Returns:\n",
    "        float: The total price of the order.\n",
    "    \"\"\"\n",
    "    print(\"Enter the price for each product in the order.\")\n",
    "    \n",
    "    # Use a comprehension to calculate the total price\n",
    "    total_price = sum(\n",
    "        float(input(f\"Enter the price of {product}: \").strip())\n",
    "        for product in customer_orders\n",
    "    )\n",
    "    \n",
    "    return total_price\n",
    "\n",
    "total_price = calculate_total_price(customer_orders)\n",
    "print(f\"The total price of the order is: ${total_price:.2f}\")\n"
   ]
  },
  {
   "cell_type": "code",
   "execution_count": 10,
   "id": "a1269357-4041-4e2e-99ca-e6b24f8637e5",
   "metadata": {},
   "outputs": [
    {
     "name": "stdout",
     "output_type": "stream",
     "text": [
      "Initial Inventory: {'book': 10, 'mug': 10, 'shoes': 10, 'dress': 10, 'postcard': 10}\n",
      "\n",
      "Updated Inventory:\n",
      "book: 10\n",
      "mug: 9\n",
      "shoes: 10\n",
      "dress: 10\n",
      "postcard: 9\n"
     ]
    }
   ],
   "source": [
    "# 4. Modify the update_inventory function to remove the product from the inventory if its quantity \n",
    "# becomes zero after fulfilling the customer orders. Use comprehension to filter out the products \n",
    "# with a quantity of zero from the inventory.\n",
    "\n",
    "def update_inventory(inventory, customer_orders):\n",
    "    \"\"\"\n",
    "    Update the inventory after fulfilling customer orders. \n",
    "    Remove products with a quantity of zero.\n",
    "\n",
    "    Args:\n",
    "        inventory (dict): Dictionary containing inventory products and their quantities.\n",
    "        customer_orders (set): Set of products ordered by the customer.\n",
    "\n",
    "    Returns:\n",
    "        dict: Updated inventory with products and their quantities.\n",
    "    \"\"\"\n",
    "    # Update inventory by decrementing quantities for ordered products\n",
    "    for product in customer_orders:\n",
    "        if product in inventory:\n",
    "            inventory[product] -= 1\n",
    "    \n",
    "    # Use dictionary comprehension to filter out products with quantity <= 0\n",
    "    updated_inventory = {product: qty for product, qty in inventory.items() if qty > 0}\n",
    "    \n",
    "    return updated_inventory\n",
    "\n",
    "\n",
    "def print_updated_inventory(inventory):\n",
    "    \"\"\"\n",
    "    Print the updated inventory with product names and quantities.\n",
    "\n",
    "    Args:\n",
    "        inventory (dict): Dictionary containing inventory products and their quantities.\n",
    "    \"\"\"\n",
    "    print(\"\\nUpdated Inventory:\")\n",
    "    if not inventory:\n",
    "        print(\"All products are out of stock.\")\n",
    "    else:\n",
    "        for product, qty in inventory.items():\n",
    "            print(f\"{product}: {qty}\")\n",
    "\n",
    "\n",
    "print(\"Initial Inventory:\", inventory)\n",
    "\n",
    "inventory = update_inventory(inventory, customer_orders)\n",
    "print_updated_inventory(inventory)"
   ]
  },
  {
   "cell_type": "code",
   "execution_count": 14,
   "id": "9ba530d8-20ec-4850-865b-25257e512a04",
   "metadata": {},
   "outputs": [
    {
     "name": "stdout",
     "output_type": "stream",
     "text": [
      "The total price of the order is: $20.00\n"
     ]
    }
   ],
   "source": [
    "# Print the total price of the customer order.\n",
    "\n",
    "print(f\"The total price of the order is: ${total_price:.2f}\")"
   ]
  },
  {
   "cell_type": "code",
   "execution_count": null,
   "id": "875f286a-e590-4f70-8159-d1c35430b5b1",
   "metadata": {},
   "outputs": [],
   "source": []
  }
 ],
 "metadata": {
  "kernelspec": {
   "display_name": "Python 3 (ipykernel)",
   "language": "python",
   "name": "python3"
  },
  "language_info": {
   "codemirror_mode": {
    "name": "ipython",
    "version": 3
   },
   "file_extension": ".py",
   "mimetype": "text/x-python",
   "name": "python",
   "nbconvert_exporter": "python",
   "pygments_lexer": "ipython3",
   "version": "3.12.7"
  }
 },
 "nbformat": 4,
 "nbformat_minor": 5
}
